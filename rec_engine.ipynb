{
 "cells": [
  {
   "cell_type": "code",
   "execution_count": 1,
   "metadata": {},
   "outputs": [],
   "source": [
    "import numpy as np\n",
    "import pandas as pd\n",
    "\n",
    "# set some print options\n",
    "np.set_printoptions(precision=4)\n",
    "np.set_printoptions(threshold=5)\n",
    "np.set_printoptions(suppress=True)\n",
    "pd.set_option('precision', 3, 'notebook_repr_html', True, )\n",
    "\n",
    "# init random gen\n",
    "np.random.seed(2)"
   ]
  },
  {
   "cell_type": "code",
   "execution_count": 2,
   "metadata": {},
   "outputs": [],
   "source": [
    "users = pd.read_table('data/ml-1m/users.dat',\n",
    "                      sep='::', header=None,\n",
    "                      engine='python',\n",
    "                      names=['user_id', 'gender', 'age', 'occupation', 'zip'])\n",
    "\n",
    "movies = pd.read_table('data/ml-1m/movies.dat',\n",
    "                       sep='::', header=None,\n",
    "                       engine='python',\n",
    "                       names=['movie_id', 'title', 'genres'])\n",
    "\n",
    "ratings = pd.read_table('data/ml-1m/ratings.dat',\n",
    "                        sep='::', header=None,\n",
    "                        engine='python',\n",
    "                        names=['user_id', 'movie_id', 'rating', 'timestamp'])"
   ]
  },
  {
   "cell_type": "code",
   "execution_count": 3,
   "metadata": {},
   "outputs": [
    {
     "name": "stdout",
     "output_type": "stream",
     "text": [
      "<class 'pandas.core.frame.DataFrame'>\n",
      "RangeIndex: 6040 entries, 0 to 6039\n",
      "Data columns (total 5 columns):\n",
      " #   Column      Non-Null Count  Dtype \n",
      "---  ------      --------------  ----- \n",
      " 0   user_id     6040 non-null   int64 \n",
      " 1   gender      6040 non-null   object\n",
      " 2   age         6040 non-null   int64 \n",
      " 3   occupation  6040 non-null   int64 \n",
      " 4   zip         6040 non-null   object\n",
      "dtypes: int64(3), object(2)\n",
      "memory usage: 236.1+ KB\n"
     ]
    }
   ],
   "source": [
    "users.info()"
   ]
  },
  {
   "cell_type": "code",
   "execution_count": 4,
   "metadata": {},
   "outputs": [
    {
     "data": {
      "text/html": [
       "<div>\n",
       "<style scoped>\n",
       "    .dataframe tbody tr th:only-of-type {\n",
       "        vertical-align: middle;\n",
       "    }\n",
       "\n",
       "    .dataframe tbody tr th {\n",
       "        vertical-align: top;\n",
       "    }\n",
       "\n",
       "    .dataframe thead th {\n",
       "        text-align: right;\n",
       "    }\n",
       "</style>\n",
       "<table border=\"1\" class=\"dataframe\">\n",
       "  <thead>\n",
       "    <tr style=\"text-align: right;\">\n",
       "      <th></th>\n",
       "      <th>user_id</th>\n",
       "      <th>gender</th>\n",
       "      <th>age</th>\n",
       "      <th>occupation</th>\n",
       "      <th>zip</th>\n",
       "    </tr>\n",
       "  </thead>\n",
       "  <tbody>\n",
       "    <tr>\n",
       "      <th>0</th>\n",
       "      <td>1</td>\n",
       "      <td>F</td>\n",
       "      <td>1</td>\n",
       "      <td>10</td>\n",
       "      <td>48067</td>\n",
       "    </tr>\n",
       "    <tr>\n",
       "      <th>1</th>\n",
       "      <td>2</td>\n",
       "      <td>M</td>\n",
       "      <td>56</td>\n",
       "      <td>16</td>\n",
       "      <td>70072</td>\n",
       "    </tr>\n",
       "    <tr>\n",
       "      <th>2</th>\n",
       "      <td>3</td>\n",
       "      <td>M</td>\n",
       "      <td>25</td>\n",
       "      <td>15</td>\n",
       "      <td>55117</td>\n",
       "    </tr>\n",
       "    <tr>\n",
       "      <th>3</th>\n",
       "      <td>4</td>\n",
       "      <td>M</td>\n",
       "      <td>45</td>\n",
       "      <td>7</td>\n",
       "      <td>02460</td>\n",
       "    </tr>\n",
       "    <tr>\n",
       "      <th>4</th>\n",
       "      <td>5</td>\n",
       "      <td>M</td>\n",
       "      <td>25</td>\n",
       "      <td>20</td>\n",
       "      <td>55455</td>\n",
       "    </tr>\n",
       "  </tbody>\n",
       "</table>\n",
       "</div>"
      ],
      "text/plain": [
       "   user_id gender  age  occupation    zip\n",
       "0        1      F    1          10  48067\n",
       "1        2      M   56          16  70072\n",
       "2        3      M   25          15  55117\n",
       "3        4      M   45           7  02460\n",
       "4        5      M   25          20  55455"
      ]
     },
     "execution_count": 4,
     "metadata": {},
     "output_type": "execute_result"
    }
   ],
   "source": [
    "users.head()"
   ]
  },
  {
   "cell_type": "code",
   "execution_count": 5,
   "metadata": {},
   "outputs": [
    {
     "name": "stdout",
     "output_type": "stream",
     "text": [
      "<class 'pandas.core.frame.DataFrame'>\n",
      "RangeIndex: 3883 entries, 0 to 3882\n",
      "Data columns (total 3 columns):\n",
      " #   Column    Non-Null Count  Dtype \n",
      "---  ------    --------------  ----- \n",
      " 0   movie_id  3883 non-null   int64 \n",
      " 1   title     3883 non-null   object\n",
      " 2   genres    3883 non-null   object\n",
      "dtypes: int64(1), object(2)\n",
      "memory usage: 91.1+ KB\n"
     ]
    }
   ],
   "source": [
    "movies.info()"
   ]
  },
  {
   "cell_type": "code",
   "execution_count": 6,
   "metadata": {},
   "outputs": [
    {
     "data": {
      "text/html": [
       "<div>\n",
       "<style scoped>\n",
       "    .dataframe tbody tr th:only-of-type {\n",
       "        vertical-align: middle;\n",
       "    }\n",
       "\n",
       "    .dataframe tbody tr th {\n",
       "        vertical-align: top;\n",
       "    }\n",
       "\n",
       "    .dataframe thead th {\n",
       "        text-align: right;\n",
       "    }\n",
       "</style>\n",
       "<table border=\"1\" class=\"dataframe\">\n",
       "  <thead>\n",
       "    <tr style=\"text-align: right;\">\n",
       "      <th></th>\n",
       "      <th>movie_id</th>\n",
       "      <th>title</th>\n",
       "      <th>genres</th>\n",
       "    </tr>\n",
       "  </thead>\n",
       "  <tbody>\n",
       "    <tr>\n",
       "      <th>0</th>\n",
       "      <td>1</td>\n",
       "      <td>Toy Story (1995)</td>\n",
       "      <td>Animation|Children's|Comedy</td>\n",
       "    </tr>\n",
       "    <tr>\n",
       "      <th>1</th>\n",
       "      <td>2</td>\n",
       "      <td>Jumanji (1995)</td>\n",
       "      <td>Adventure|Children's|Fantasy</td>\n",
       "    </tr>\n",
       "    <tr>\n",
       "      <th>2</th>\n",
       "      <td>3</td>\n",
       "      <td>Grumpier Old Men (1995)</td>\n",
       "      <td>Comedy|Romance</td>\n",
       "    </tr>\n",
       "    <tr>\n",
       "      <th>3</th>\n",
       "      <td>4</td>\n",
       "      <td>Waiting to Exhale (1995)</td>\n",
       "      <td>Comedy|Drama</td>\n",
       "    </tr>\n",
       "    <tr>\n",
       "      <th>4</th>\n",
       "      <td>5</td>\n",
       "      <td>Father of the Bride Part II (1995)</td>\n",
       "      <td>Comedy</td>\n",
       "    </tr>\n",
       "  </tbody>\n",
       "</table>\n",
       "</div>"
      ],
      "text/plain": [
       "   movie_id                               title                        genres\n",
       "0         1                    Toy Story (1995)   Animation|Children's|Comedy\n",
       "1         2                      Jumanji (1995)  Adventure|Children's|Fantasy\n",
       "2         3             Grumpier Old Men (1995)                Comedy|Romance\n",
       "3         4            Waiting to Exhale (1995)                  Comedy|Drama\n",
       "4         5  Father of the Bride Part II (1995)                        Comedy"
      ]
     },
     "execution_count": 6,
     "metadata": {},
     "output_type": "execute_result"
    }
   ],
   "source": [
    "movies.head()"
   ]
  },
  {
   "cell_type": "code",
   "execution_count": 7,
   "metadata": {},
   "outputs": [
    {
     "name": "stdout",
     "output_type": "stream",
     "text": [
      "<class 'pandas.core.frame.DataFrame'>\n",
      "RangeIndex: 1000209 entries, 0 to 1000208\n",
      "Data columns (total 4 columns):\n",
      " #   Column     Non-Null Count    Dtype\n",
      "---  ------     --------------    -----\n",
      " 0   user_id    1000209 non-null  int64\n",
      " 1   movie_id   1000209 non-null  int64\n",
      " 2   rating     1000209 non-null  int64\n",
      " 3   timestamp  1000209 non-null  int64\n",
      "dtypes: int64(4)\n",
      "memory usage: 30.5 MB\n"
     ]
    }
   ],
   "source": [
    "ratings.info()"
   ]
  },
  {
   "cell_type": "code",
   "execution_count": 8,
   "metadata": {},
   "outputs": [
    {
     "data": {
      "text/html": [
       "<div>\n",
       "<style scoped>\n",
       "    .dataframe tbody tr th:only-of-type {\n",
       "        vertical-align: middle;\n",
       "    }\n",
       "\n",
       "    .dataframe tbody tr th {\n",
       "        vertical-align: top;\n",
       "    }\n",
       "\n",
       "    .dataframe thead th {\n",
       "        text-align: right;\n",
       "    }\n",
       "</style>\n",
       "<table border=\"1\" class=\"dataframe\">\n",
       "  <thead>\n",
       "    <tr style=\"text-align: right;\">\n",
       "      <th></th>\n",
       "      <th>user_id</th>\n",
       "      <th>movie_id</th>\n",
       "      <th>rating</th>\n",
       "      <th>timestamp</th>\n",
       "    </tr>\n",
       "  </thead>\n",
       "  <tbody>\n",
       "    <tr>\n",
       "      <th>0</th>\n",
       "      <td>1</td>\n",
       "      <td>1193</td>\n",
       "      <td>5</td>\n",
       "      <td>978300760</td>\n",
       "    </tr>\n",
       "    <tr>\n",
       "      <th>1</th>\n",
       "      <td>1</td>\n",
       "      <td>661</td>\n",
       "      <td>3</td>\n",
       "      <td>978302109</td>\n",
       "    </tr>\n",
       "    <tr>\n",
       "      <th>2</th>\n",
       "      <td>1</td>\n",
       "      <td>914</td>\n",
       "      <td>3</td>\n",
       "      <td>978301968</td>\n",
       "    </tr>\n",
       "    <tr>\n",
       "      <th>3</th>\n",
       "      <td>1</td>\n",
       "      <td>3408</td>\n",
       "      <td>4</td>\n",
       "      <td>978300275</td>\n",
       "    </tr>\n",
       "    <tr>\n",
       "      <th>4</th>\n",
       "      <td>1</td>\n",
       "      <td>2355</td>\n",
       "      <td>5</td>\n",
       "      <td>978824291</td>\n",
       "    </tr>\n",
       "  </tbody>\n",
       "</table>\n",
       "</div>"
      ],
      "text/plain": [
       "   user_id  movie_id  rating  timestamp\n",
       "0        1      1193       5  978300760\n",
       "1        1       661       3  978302109\n",
       "2        1       914       3  978301968\n",
       "3        1      3408       4  978300275\n",
       "4        1      2355       5  978824291"
      ]
     },
     "execution_count": 8,
     "metadata": {},
     "output_type": "execute_result"
    }
   ],
   "source": [
    "ratings.head()"
   ]
  },
  {
   "cell_type": "markdown",
   "metadata": {},
   "source": [
    "## Merge all three data sets. \n",
    "First on user_id, then on movie_id."
   ]
  },
  {
   "cell_type": "code",
   "execution_count": 3,
   "metadata": {},
   "outputs": [],
   "source": [
    "movielens = pd.merge(pd.merge(ratings,users),movies)"
   ]
  },
  {
   "cell_type": "code",
   "execution_count": 10,
   "metadata": {},
   "outputs": [
    {
     "name": "stdout",
     "output_type": "stream",
     "text": [
      "<class 'pandas.core.frame.DataFrame'>\n",
      "Int64Index: 1000209 entries, 0 to 1000208\n",
      "Data columns (total 10 columns):\n",
      " #   Column      Non-Null Count    Dtype \n",
      "---  ------      --------------    ----- \n",
      " 0   user_id     1000209 non-null  int64 \n",
      " 1   movie_id    1000209 non-null  int64 \n",
      " 2   rating      1000209 non-null  int64 \n",
      " 3   timestamp   1000209 non-null  int64 \n",
      " 4   gender      1000209 non-null  object\n",
      " 5   age         1000209 non-null  int64 \n",
      " 6   occupation  1000209 non-null  int64 \n",
      " 7   zip         1000209 non-null  object\n",
      " 8   title       1000209 non-null  object\n",
      " 9   genres      1000209 non-null  object\n",
      "dtypes: int64(6), object(4)\n",
      "memory usage: 83.9+ MB\n"
     ]
    }
   ],
   "source": [
    "movielens.info()"
   ]
  },
  {
   "cell_type": "code",
   "execution_count": 10,
   "metadata": {},
   "outputs": [
    {
     "data": {
      "text/html": [
       "<div>\n",
       "<style scoped>\n",
       "    .dataframe tbody tr th:only-of-type {\n",
       "        vertical-align: middle;\n",
       "    }\n",
       "\n",
       "    .dataframe tbody tr th {\n",
       "        vertical-align: top;\n",
       "    }\n",
       "\n",
       "    .dataframe thead th {\n",
       "        text-align: right;\n",
       "    }\n",
       "</style>\n",
       "<table border=\"1\" class=\"dataframe\">\n",
       "  <thead>\n",
       "    <tr style=\"text-align: right;\">\n",
       "      <th></th>\n",
       "      <th>user_id</th>\n",
       "      <th>movie_id</th>\n",
       "      <th>rating</th>\n",
       "      <th>timestamp</th>\n",
       "      <th>age</th>\n",
       "      <th>occupation</th>\n",
       "    </tr>\n",
       "  </thead>\n",
       "  <tbody>\n",
       "    <tr>\n",
       "      <th>count</th>\n",
       "      <td>1.000e+06</td>\n",
       "      <td>1.000e+06</td>\n",
       "      <td>1.000e+06</td>\n",
       "      <td>1.000e+06</td>\n",
       "      <td>1.000e+06</td>\n",
       "      <td>1.000e+06</td>\n",
       "    </tr>\n",
       "    <tr>\n",
       "      <th>mean</th>\n",
       "      <td>3.025e+03</td>\n",
       "      <td>1.866e+03</td>\n",
       "      <td>3.582e+00</td>\n",
       "      <td>9.722e+08</td>\n",
       "      <td>2.974e+01</td>\n",
       "      <td>8.036e+00</td>\n",
       "    </tr>\n",
       "    <tr>\n",
       "      <th>std</th>\n",
       "      <td>1.728e+03</td>\n",
       "      <td>1.096e+03</td>\n",
       "      <td>1.117e+00</td>\n",
       "      <td>1.215e+07</td>\n",
       "      <td>1.175e+01</td>\n",
       "      <td>6.531e+00</td>\n",
       "    </tr>\n",
       "    <tr>\n",
       "      <th>min</th>\n",
       "      <td>1.000e+00</td>\n",
       "      <td>1.000e+00</td>\n",
       "      <td>1.000e+00</td>\n",
       "      <td>9.567e+08</td>\n",
       "      <td>1.000e+00</td>\n",
       "      <td>0.000e+00</td>\n",
       "    </tr>\n",
       "    <tr>\n",
       "      <th>25%</th>\n",
       "      <td>1.506e+03</td>\n",
       "      <td>1.030e+03</td>\n",
       "      <td>3.000e+00</td>\n",
       "      <td>9.653e+08</td>\n",
       "      <td>2.500e+01</td>\n",
       "      <td>2.000e+00</td>\n",
       "    </tr>\n",
       "    <tr>\n",
       "      <th>50%</th>\n",
       "      <td>3.070e+03</td>\n",
       "      <td>1.835e+03</td>\n",
       "      <td>4.000e+00</td>\n",
       "      <td>9.730e+08</td>\n",
       "      <td>2.500e+01</td>\n",
       "      <td>7.000e+00</td>\n",
       "    </tr>\n",
       "    <tr>\n",
       "      <th>75%</th>\n",
       "      <td>4.476e+03</td>\n",
       "      <td>2.770e+03</td>\n",
       "      <td>4.000e+00</td>\n",
       "      <td>9.752e+08</td>\n",
       "      <td>3.500e+01</td>\n",
       "      <td>1.400e+01</td>\n",
       "    </tr>\n",
       "    <tr>\n",
       "      <th>max</th>\n",
       "      <td>6.040e+03</td>\n",
       "      <td>3.952e+03</td>\n",
       "      <td>5.000e+00</td>\n",
       "      <td>1.046e+09</td>\n",
       "      <td>5.600e+01</td>\n",
       "      <td>2.000e+01</td>\n",
       "    </tr>\n",
       "  </tbody>\n",
       "</table>\n",
       "</div>"
      ],
      "text/plain": [
       "         user_id   movie_id     rating  timestamp        age  occupation\n",
       "count  1.000e+06  1.000e+06  1.000e+06  1.000e+06  1.000e+06   1.000e+06\n",
       "mean   3.025e+03  1.866e+03  3.582e+00  9.722e+08  2.974e+01   8.036e+00\n",
       "std    1.728e+03  1.096e+03  1.117e+00  1.215e+07  1.175e+01   6.531e+00\n",
       "min    1.000e+00  1.000e+00  1.000e+00  9.567e+08  1.000e+00   0.000e+00\n",
       "25%    1.506e+03  1.030e+03  3.000e+00  9.653e+08  2.500e+01   2.000e+00\n",
       "50%    3.070e+03  1.835e+03  4.000e+00  9.730e+08  2.500e+01   7.000e+00\n",
       "75%    4.476e+03  2.770e+03  4.000e+00  9.752e+08  3.500e+01   1.400e+01\n",
       "max    6.040e+03  3.952e+03  5.000e+00  1.046e+09  5.600e+01   2.000e+01"
      ]
     },
     "execution_count": 10,
     "metadata": {},
     "output_type": "execute_result"
    }
   ],
   "source": [
    "movielens.describe()"
   ]
  },
  {
   "cell_type": "code",
   "execution_count": 11,
   "metadata": {},
   "outputs": [
    {
     "data": {
      "text/html": [
       "<div>\n",
       "<style scoped>\n",
       "    .dataframe tbody tr th:only-of-type {\n",
       "        vertical-align: middle;\n",
       "    }\n",
       "\n",
       "    .dataframe tbody tr th {\n",
       "        vertical-align: top;\n",
       "    }\n",
       "\n",
       "    .dataframe thead th {\n",
       "        text-align: right;\n",
       "    }\n",
       "</style>\n",
       "<table border=\"1\" class=\"dataframe\">\n",
       "  <thead>\n",
       "    <tr style=\"text-align: right;\">\n",
       "      <th></th>\n",
       "      <th>user_id</th>\n",
       "      <th>movie_id</th>\n",
       "      <th>rating</th>\n",
       "      <th>timestamp</th>\n",
       "      <th>gender</th>\n",
       "      <th>age</th>\n",
       "      <th>occupation</th>\n",
       "      <th>zip</th>\n",
       "      <th>title</th>\n",
       "      <th>genres</th>\n",
       "    </tr>\n",
       "  </thead>\n",
       "  <tbody>\n",
       "    <tr>\n",
       "      <th>758856</th>\n",
       "      <td>5567</td>\n",
       "      <td>2915</td>\n",
       "      <td>4</td>\n",
       "      <td>959349063</td>\n",
       "      <td>M</td>\n",
       "      <td>50</td>\n",
       "      <td>3</td>\n",
       "      <td>78704</td>\n",
       "      <td>Risky Business (1983)</td>\n",
       "      <td>Comedy</td>\n",
       "    </tr>\n",
       "    <tr>\n",
       "      <th>345912</th>\n",
       "      <td>2050</td>\n",
       "      <td>1959</td>\n",
       "      <td>3</td>\n",
       "      <td>975522916</td>\n",
       "      <td>F</td>\n",
       "      <td>35</td>\n",
       "      <td>3</td>\n",
       "      <td>99504</td>\n",
       "      <td>Out of Africa (1985)</td>\n",
       "      <td>Drama|Romance</td>\n",
       "    </tr>\n",
       "    <tr>\n",
       "      <th>586911</th>\n",
       "      <td>2841</td>\n",
       "      <td>1263</td>\n",
       "      <td>3</td>\n",
       "      <td>1022086809</td>\n",
       "      <td>M</td>\n",
       "      <td>50</td>\n",
       "      <td>12</td>\n",
       "      <td>98056</td>\n",
       "      <td>Deer Hunter, The (1978)</td>\n",
       "      <td>Drama|War</td>\n",
       "    </tr>\n",
       "    <tr>\n",
       "      <th>424866</th>\n",
       "      <td>3578</td>\n",
       "      <td>1252</td>\n",
       "      <td>5</td>\n",
       "      <td>966711654</td>\n",
       "      <td>M</td>\n",
       "      <td>50</td>\n",
       "      <td>3</td>\n",
       "      <td>96714</td>\n",
       "      <td>Chinatown (1974)</td>\n",
       "      <td>Film-Noir|Mystery|Thriller</td>\n",
       "    </tr>\n",
       "    <tr>\n",
       "      <th>538336</th>\n",
       "      <td>2995</td>\n",
       "      <td>2021</td>\n",
       "      <td>4</td>\n",
       "      <td>970683967</td>\n",
       "      <td>M</td>\n",
       "      <td>25</td>\n",
       "      <td>15</td>\n",
       "      <td>97333</td>\n",
       "      <td>Dune (1984)</td>\n",
       "      <td>Fantasy|Sci-Fi</td>\n",
       "    </tr>\n",
       "  </tbody>\n",
       "</table>\n",
       "</div>"
      ],
      "text/plain": [
       "        user_id  movie_id  rating   timestamp gender  age  occupation    zip  \\\n",
       "758856     5567      2915       4   959349063      M   50           3  78704   \n",
       "345912     2050      1959       3   975522916      F   35           3  99504   \n",
       "586911     2841      1263       3  1022086809      M   50          12  98056   \n",
       "424866     3578      1252       5   966711654      M   50           3  96714   \n",
       "538336     2995      2021       4   970683967      M   25          15  97333   \n",
       "\n",
       "                          title                      genres  \n",
       "758856    Risky Business (1983)                      Comedy  \n",
       "345912     Out of Africa (1985)               Drama|Romance  \n",
       "586911  Deer Hunter, The (1978)                   Drama|War  \n",
       "424866         Chinatown (1974)  Film-Noir|Mystery|Thriller  \n",
       "538336              Dune (1984)              Fantasy|Sci-Fi  "
      ]
     },
     "execution_count": 11,
     "metadata": {},
     "output_type": "execute_result"
    }
   ],
   "source": [
    "movielens.sample(5)"
   ]
  },
  {
   "cell_type": "markdown",
   "metadata": {},
   "source": [
    "## Create a subset for speed reasons"
   ]
  },
  {
   "cell_type": "code",
   "execution_count": 4,
   "metadata": {},
   "outputs": [
    {
     "name": "stdout",
     "output_type": "stream",
     "text": [
      "(10000, 10)\n",
      "3698\n",
      "2275\n"
     ]
    }
   ],
   "source": [
    "movielens_sub = movielens.iloc[np.random.choice(movielens.index, size=10000, replace=False)]\n",
    "print(movielens_sub.shape)\n",
    "# Check the number of unique users and movies in the subset.\n",
    "print(movielens_sub.user_id.nunique())\n",
    "print(movielens_sub.movie_id.nunique())"
   ]
  },
  {
   "cell_type": "markdown",
   "metadata": {},
   "source": [
    "Select users which have rated more than one movie."
   ]
  },
  {
   "cell_type": "code",
   "execution_count": 5,
   "metadata": {},
   "outputs": [],
   "source": [
    "# Boolean series indicating if a user_id has rated more than one movie.\n",
    "user_ids_larger_1 = pd.value_counts(movielens_sub.user_id, sort=False) > 1\n",
    "# Array of user_ids that have rated more than one movie.\n",
    "user_ids_larger_1 = user_ids_larger_1[user_ids_larger_1].index"
   ]
  },
  {
   "cell_type": "code",
   "execution_count": 6,
   "metadata": {},
   "outputs": [],
   "source": [
    "movielens_sub = movielens_sub.loc[movielens_sub.index.map(lambda x: movielens_sub.loc[x, 'user_id'] in user_ids_larger_1)]"
   ]
  },
  {
   "cell_type": "code",
   "execution_count": 7,
   "metadata": {},
   "outputs": [
    {
     "data": {
      "text/plain": [
       "(8442, 10)"
      ]
     },
     "execution_count": 7,
     "metadata": {},
     "output_type": "execute_result"
    }
   ],
   "source": [
    "movielens_sub.shape"
   ]
  },
  {
   "cell_type": "code",
   "execution_count": 8,
   "metadata": {},
   "outputs": [],
   "source": [
    "# Double check that all users in the subset have more than one movie rating.\n",
    "assert np.all(movielens_sub.user_id.value_counts() > 1)"
   ]
  },
  {
   "cell_type": "markdown",
   "metadata": {},
   "source": [
    "## Generate Training and Test Sets\n",
    "\n",
    "The test set will be comprised of 20% of each user's ratings."
   ]
  },
  {
   "cell_type": "code",
   "execution_count": 9,
   "metadata": {},
   "outputs": [],
   "source": [
    "def assign_to_set(df):\n",
    "    \"\"\" \n",
    "        Assign 20% of a user's ratings to a test set.\n",
    "        df.index returns a list of indices from a dataframe.\n",
    "        Choose 20% of those indices without replacement.\n",
    "        Set the column 'for_testing'=True for the 20% choosen.\n",
    "    \"\"\"\n",
    "    sampled_ids = np.random.choice(df.index,\n",
    "                                   size=np.int64(np.ceil(df.index.size * 0.2)),\n",
    "                                   replace=False)\n",
    "    df.loc[sampled_ids, 'for_testing'] = True\n",
    "    return df"
   ]
  },
  {
   "cell_type": "code",
   "execution_count": 10,
   "metadata": {},
   "outputs": [
    {
     "name": "stdout",
     "output_type": "stream",
     "text": [
      "(8442, 11)\n",
      "(5801, 11)\n",
      "(2641, 11)\n"
     ]
    }
   ],
   "source": [
    "# Create new column and set as False for every row\n",
    "movielens_sub.loc[:,'for_testing'] = False\n",
    "# Group ratings by user_id and assign 20% of each user's ratings to the test set.\n",
    "grouped = movielens_sub.groupby('user_id', group_keys=False).apply(assign_to_set)\n",
    "\n",
    "df_train = movielens_sub[grouped.for_testing == False]\n",
    "df_test = movielens_sub[grouped.for_testing == True]\n",
    "\n",
    "print(movielens_sub.shape)\n",
    "# Make sure the training and test sets are not empty.\n",
    "print(df_train.shape)\n",
    "print(df_test.shape)\n",
    "assert len(df_train.index & df_test.index) == 0"
   ]
  },
  {
   "cell_type": "code",
   "execution_count": 11,
   "metadata": {},
   "outputs": [],
   "source": [
    "# Save the training and test sets\n",
    "df_train.to_csv('data/df_train.csv')\n",
    "df_test.to_csv('data/df_test.csv')"
   ]
  },
  {
   "cell_type": "markdown",
   "metadata": {},
   "source": [
    "## Load the MovieLens Subsample"
   ]
  },
  {
   "cell_type": "code",
   "execution_count": 2,
   "metadata": {},
   "outputs": [],
   "source": [
    "df_train = pd.read_csv('data/df_train.csv', index_col=0)\n",
    "df_test = pd.read_csv('data/df_test.csv', index_col=0)"
   ]
  },
  {
   "cell_type": "code",
   "execution_count": 3,
   "metadata": {},
   "outputs": [
    {
     "data": {
      "text/html": [
       "<div>\n",
       "<style scoped>\n",
       "    .dataframe tbody tr th:only-of-type {\n",
       "        vertical-align: middle;\n",
       "    }\n",
       "\n",
       "    .dataframe tbody tr th {\n",
       "        vertical-align: top;\n",
       "    }\n",
       "\n",
       "    .dataframe thead th {\n",
       "        text-align: right;\n",
       "    }\n",
       "</style>\n",
       "<table border=\"1\" class=\"dataframe\">\n",
       "  <thead>\n",
       "    <tr style=\"text-align: right;\">\n",
       "      <th></th>\n",
       "      <th>user_id</th>\n",
       "      <th>movie_id</th>\n",
       "      <th>rating</th>\n",
       "      <th>timestamp</th>\n",
       "      <th>gender</th>\n",
       "      <th>age</th>\n",
       "      <th>occupation</th>\n",
       "      <th>zip</th>\n",
       "      <th>title</th>\n",
       "      <th>genres</th>\n",
       "      <th>for_testing</th>\n",
       "    </tr>\n",
       "  </thead>\n",
       "  <tbody>\n",
       "    <tr>\n",
       "      <th>570002</th>\n",
       "      <td>3213</td>\n",
       "      <td>2883</td>\n",
       "      <td>1</td>\n",
       "      <td>968518282</td>\n",
       "      <td>F</td>\n",
       "      <td>25</td>\n",
       "      <td>1</td>\n",
       "      <td>83705</td>\n",
       "      <td>Mumford (1999)</td>\n",
       "      <td>Comedy</td>\n",
       "      <td>False</td>\n",
       "    </tr>\n",
       "    <tr>\n",
       "      <th>603824</th>\n",
       "      <td>2315</td>\n",
       "      <td>1608</td>\n",
       "      <td>3</td>\n",
       "      <td>974479133</td>\n",
       "      <td>M</td>\n",
       "      <td>56</td>\n",
       "      <td>7</td>\n",
       "      <td>48114</td>\n",
       "      <td>Air Force One (1997)</td>\n",
       "      <td>Action|Thriller</td>\n",
       "      <td>False</td>\n",
       "    </tr>\n",
       "    <tr>\n",
       "      <th>71519</th>\n",
       "      <td>1651</td>\n",
       "      <td>1210</td>\n",
       "      <td>3</td>\n",
       "      <td>1002181287</td>\n",
       "      <td>M</td>\n",
       "      <td>25</td>\n",
       "      <td>12</td>\n",
       "      <td>94520</td>\n",
       "      <td>Star Wars: Episode VI - Return of the Jedi (1983)</td>\n",
       "      <td>Action|Adventure|Romance|Sci-Fi|War</td>\n",
       "      <td>False</td>\n",
       "    </tr>\n",
       "    <tr>\n",
       "      <th>138823</th>\n",
       "      <td>2771</td>\n",
       "      <td>2359</td>\n",
       "      <td>3</td>\n",
       "      <td>973097213</td>\n",
       "      <td>M</td>\n",
       "      <td>18</td>\n",
       "      <td>1</td>\n",
       "      <td>92037</td>\n",
       "      <td>Waking Ned Devine (1998)</td>\n",
       "      <td>Comedy</td>\n",
       "      <td>False</td>\n",
       "    </tr>\n",
       "    <tr>\n",
       "      <th>513372</th>\n",
       "      <td>3462</td>\n",
       "      <td>2003</td>\n",
       "      <td>4</td>\n",
       "      <td>967394093</td>\n",
       "      <td>F</td>\n",
       "      <td>25</td>\n",
       "      <td>4</td>\n",
       "      <td>73160</td>\n",
       "      <td>Gremlins (1984)</td>\n",
       "      <td>Comedy|Horror</td>\n",
       "      <td>False</td>\n",
       "    </tr>\n",
       "  </tbody>\n",
       "</table>\n",
       "</div>"
      ],
      "text/plain": [
       "        user_id  movie_id  rating   timestamp gender  age  occupation    zip  \\\n",
       "570002     3213      2883       1   968518282      F   25           1  83705   \n",
       "603824     2315      1608       3   974479133      M   56           7  48114   \n",
       "71519      1651      1210       3  1002181287      M   25          12  94520   \n",
       "138823     2771      2359       3   973097213      M   18           1  92037   \n",
       "513372     3462      2003       4   967394093      F   25           4  73160   \n",
       "\n",
       "                                                    title  \\\n",
       "570002                                     Mumford (1999)   \n",
       "603824                               Air Force One (1997)   \n",
       "71519   Star Wars: Episode VI - Return of the Jedi (1983)   \n",
       "138823                           Waking Ned Devine (1998)   \n",
       "513372                                    Gremlins (1984)   \n",
       "\n",
       "                                     genres  for_testing  \n",
       "570002                               Comedy        False  \n",
       "603824                      Action|Thriller        False  \n",
       "71519   Action|Adventure|Romance|Sci-Fi|War        False  \n",
       "138823                               Comedy        False  \n",
       "513372                        Comedy|Horror        False  "
      ]
     },
     "execution_count": 3,
     "metadata": {},
     "output_type": "execute_result"
    }
   ],
   "source": [
    "df_train.sample(5)"
   ]
  },
  {
   "cell_type": "code",
   "execution_count": 4,
   "metadata": {},
   "outputs": [
    {
     "data": {
      "text/html": [
       "<div>\n",
       "<style scoped>\n",
       "    .dataframe tbody tr th:only-of-type {\n",
       "        vertical-align: middle;\n",
       "    }\n",
       "\n",
       "    .dataframe tbody tr th {\n",
       "        vertical-align: top;\n",
       "    }\n",
       "\n",
       "    .dataframe thead th {\n",
       "        text-align: right;\n",
       "    }\n",
       "</style>\n",
       "<table border=\"1\" class=\"dataframe\">\n",
       "  <thead>\n",
       "    <tr style=\"text-align: right;\">\n",
       "      <th></th>\n",
       "      <th>user_id</th>\n",
       "      <th>movie_id</th>\n",
       "      <th>rating</th>\n",
       "      <th>timestamp</th>\n",
       "      <th>age</th>\n",
       "      <th>occupation</th>\n",
       "    </tr>\n",
       "  </thead>\n",
       "  <tbody>\n",
       "    <tr>\n",
       "      <th>count</th>\n",
       "      <td>5801.000</td>\n",
       "      <td>5801.000</td>\n",
       "      <td>5801.000</td>\n",
       "      <td>5.801e+03</td>\n",
       "      <td>5801.000</td>\n",
       "      <td>5801.000</td>\n",
       "    </tr>\n",
       "    <tr>\n",
       "      <th>mean</th>\n",
       "      <td>3023.148</td>\n",
       "      <td>1873.502</td>\n",
       "      <td>3.527</td>\n",
       "      <td>9.724e+08</td>\n",
       "      <td>29.521</td>\n",
       "      <td>7.938</td>\n",
       "    </tr>\n",
       "    <tr>\n",
       "      <th>std</th>\n",
       "      <td>1721.933</td>\n",
       "      <td>1088.238</td>\n",
       "      <td>1.113</td>\n",
       "      <td>1.234e+07</td>\n",
       "      <td>11.289</td>\n",
       "      <td>6.621</td>\n",
       "    </tr>\n",
       "    <tr>\n",
       "      <th>min</th>\n",
       "      <td>8.000</td>\n",
       "      <td>1.000</td>\n",
       "      <td>1.000</td>\n",
       "      <td>9.567e+08</td>\n",
       "      <td>1.000</td>\n",
       "      <td>0.000</td>\n",
       "    </tr>\n",
       "    <tr>\n",
       "      <th>25%</th>\n",
       "      <td>1510.000</td>\n",
       "      <td>1047.000</td>\n",
       "      <td>3.000</td>\n",
       "      <td>9.653e+08</td>\n",
       "      <td>25.000</td>\n",
       "      <td>2.000</td>\n",
       "    </tr>\n",
       "    <tr>\n",
       "      <th>50%</th>\n",
       "      <td>3067.000</td>\n",
       "      <td>1904.000</td>\n",
       "      <td>4.000</td>\n",
       "      <td>9.730e+08</td>\n",
       "      <td>25.000</td>\n",
       "      <td>6.000</td>\n",
       "    </tr>\n",
       "    <tr>\n",
       "      <th>75%</th>\n",
       "      <td>4446.000</td>\n",
       "      <td>2791.000</td>\n",
       "      <td>4.000</td>\n",
       "      <td>9.753e+08</td>\n",
       "      <td>35.000</td>\n",
       "      <td>14.000</td>\n",
       "    </tr>\n",
       "    <tr>\n",
       "      <th>max</th>\n",
       "      <td>6040.000</td>\n",
       "      <td>3952.000</td>\n",
       "      <td>5.000</td>\n",
       "      <td>1.046e+09</td>\n",
       "      <td>56.000</td>\n",
       "      <td>20.000</td>\n",
       "    </tr>\n",
       "  </tbody>\n",
       "</table>\n",
       "</div>"
      ],
      "text/plain": [
       "        user_id  movie_id    rating  timestamp       age  occupation\n",
       "count  5801.000  5801.000  5801.000  5.801e+03  5801.000    5801.000\n",
       "mean   3023.148  1873.502     3.527  9.724e+08    29.521       7.938\n",
       "std    1721.933  1088.238     1.113  1.234e+07    11.289       6.621\n",
       "min       8.000     1.000     1.000  9.567e+08     1.000       0.000\n",
       "25%    1510.000  1047.000     3.000  9.653e+08    25.000       2.000\n",
       "50%    3067.000  1904.000     4.000  9.730e+08    25.000       6.000\n",
       "75%    4446.000  2791.000     4.000  9.753e+08    35.000      14.000\n",
       "max    6040.000  3952.000     5.000  1.046e+09    56.000      20.000"
      ]
     },
     "execution_count": 4,
     "metadata": {},
     "output_type": "execute_result"
    }
   ],
   "source": [
    "df_train.describe()"
   ]
  },
  {
   "cell_type": "code",
   "execution_count": 5,
   "metadata": {},
   "outputs": [
    {
     "name": "stdout",
     "output_type": "stream",
     "text": [
      "<class 'pandas.core.frame.DataFrame'>\n",
      "Int64Index: 5801 entries, 758856 to 775932\n",
      "Data columns (total 11 columns):\n",
      " #   Column       Non-Null Count  Dtype \n",
      "---  ------       --------------  ----- \n",
      " 0   user_id      5801 non-null   int64 \n",
      " 1   movie_id     5801 non-null   int64 \n",
      " 2   rating       5801 non-null   int64 \n",
      " 3   timestamp    5801 non-null   int64 \n",
      " 4   gender       5801 non-null   object\n",
      " 5   age          5801 non-null   int64 \n",
      " 6   occupation   5801 non-null   int64 \n",
      " 7   zip          5801 non-null   object\n",
      " 8   title        5801 non-null   object\n",
      " 9   genres       5801 non-null   object\n",
      " 10  for_testing  5801 non-null   bool  \n",
      "dtypes: bool(1), int64(6), object(4)\n",
      "memory usage: 504.2+ KB\n"
     ]
    }
   ],
   "source": [
    "df_train.info()"
   ]
  },
  {
   "cell_type": "code",
   "execution_count": 6,
   "metadata": {},
   "outputs": [
    {
     "data": {
      "text/html": [
       "<div>\n",
       "<style scoped>\n",
       "    .dataframe tbody tr th:only-of-type {\n",
       "        vertical-align: middle;\n",
       "    }\n",
       "\n",
       "    .dataframe tbody tr th {\n",
       "        vertical-align: top;\n",
       "    }\n",
       "\n",
       "    .dataframe thead th {\n",
       "        text-align: right;\n",
       "    }\n",
       "</style>\n",
       "<table border=\"1\" class=\"dataframe\">\n",
       "  <thead>\n",
       "    <tr style=\"text-align: right;\">\n",
       "      <th></th>\n",
       "      <th>user_id</th>\n",
       "      <th>movie_id</th>\n",
       "      <th>rating</th>\n",
       "      <th>timestamp</th>\n",
       "      <th>gender</th>\n",
       "      <th>age</th>\n",
       "      <th>occupation</th>\n",
       "      <th>zip</th>\n",
       "      <th>title</th>\n",
       "      <th>genres</th>\n",
       "      <th>for_testing</th>\n",
       "    </tr>\n",
       "  </thead>\n",
       "  <tbody>\n",
       "    <tr>\n",
       "      <th>330846</th>\n",
       "      <td>2306</td>\n",
       "      <td>597</td>\n",
       "      <td>5</td>\n",
       "      <td>974493350</td>\n",
       "      <td>F</td>\n",
       "      <td>18</td>\n",
       "      <td>4</td>\n",
       "      <td>02138</td>\n",
       "      <td>Pretty Woman (1990)</td>\n",
       "      <td>Comedy|Romance</td>\n",
       "      <td>False</td>\n",
       "    </tr>\n",
       "    <tr>\n",
       "      <th>756612</th>\n",
       "      <td>3067</td>\n",
       "      <td>175</td>\n",
       "      <td>5</td>\n",
       "      <td>969999335</td>\n",
       "      <td>F</td>\n",
       "      <td>25</td>\n",
       "      <td>0</td>\n",
       "      <td>02148</td>\n",
       "      <td>Kids (1995)</td>\n",
       "      <td>Drama</td>\n",
       "      <td>False</td>\n",
       "    </tr>\n",
       "    <tr>\n",
       "      <th>825706</th>\n",
       "      <td>5448</td>\n",
       "      <td>2932</td>\n",
       "      <td>3</td>\n",
       "      <td>960052606</td>\n",
       "      <td>M</td>\n",
       "      <td>45</td>\n",
       "      <td>19</td>\n",
       "      <td>60626</td>\n",
       "      <td>Days of Heaven (1978)</td>\n",
       "      <td>Drama</td>\n",
       "      <td>False</td>\n",
       "    </tr>\n",
       "    <tr>\n",
       "      <th>324481</th>\n",
       "      <td>3087</td>\n",
       "      <td>2406</td>\n",
       "      <td>4</td>\n",
       "      <td>969682171</td>\n",
       "      <td>F</td>\n",
       "      <td>1</td>\n",
       "      <td>1</td>\n",
       "      <td>90802</td>\n",
       "      <td>Romancing the Stone (1984)</td>\n",
       "      <td>Action|Adventure|Comedy|Romance</td>\n",
       "      <td>False</td>\n",
       "    </tr>\n",
       "    <tr>\n",
       "      <th>503143</th>\n",
       "      <td>3529</td>\n",
       "      <td>2863</td>\n",
       "      <td>3</td>\n",
       "      <td>966896486</td>\n",
       "      <td>F</td>\n",
       "      <td>45</td>\n",
       "      <td>1</td>\n",
       "      <td>97361</td>\n",
       "      <td>Hard Day's Night, A (1964)</td>\n",
       "      <td>Comedy|Musical</td>\n",
       "      <td>False</td>\n",
       "    </tr>\n",
       "  </tbody>\n",
       "</table>\n",
       "</div>"
      ],
      "text/plain": [
       "        user_id  movie_id  rating  timestamp gender  age  occupation    zip  \\\n",
       "330846     2306       597       5  974493350      F   18           4  02138   \n",
       "756612     3067       175       5  969999335      F   25           0  02148   \n",
       "825706     5448      2932       3  960052606      M   45          19  60626   \n",
       "324481     3087      2406       4  969682171      F    1           1  90802   \n",
       "503143     3529      2863       3  966896486      F   45           1  97361   \n",
       "\n",
       "                             title                           genres  \\\n",
       "330846         Pretty Woman (1990)                   Comedy|Romance   \n",
       "756612                 Kids (1995)                            Drama   \n",
       "825706       Days of Heaven (1978)                            Drama   \n",
       "324481  Romancing the Stone (1984)  Action|Adventure|Comedy|Romance   \n",
       "503143  Hard Day's Night, A (1964)                   Comedy|Musical   \n",
       "\n",
       "        for_testing  \n",
       "330846        False  \n",
       "756612        False  \n",
       "825706        False  \n",
       "324481        False  \n",
       "503143        False  "
      ]
     },
     "execution_count": 6,
     "metadata": {},
     "output_type": "execute_result"
    }
   ],
   "source": [
    "df_test.sample(5)"
   ]
  },
  {
   "cell_type": "code",
   "execution_count": 7,
   "metadata": {},
   "outputs": [
    {
     "data": {
      "text/html": [
       "<div>\n",
       "<style scoped>\n",
       "    .dataframe tbody tr th:only-of-type {\n",
       "        vertical-align: middle;\n",
       "    }\n",
       "\n",
       "    .dataframe tbody tr th {\n",
       "        vertical-align: top;\n",
       "    }\n",
       "\n",
       "    .dataframe thead th {\n",
       "        text-align: right;\n",
       "    }\n",
       "</style>\n",
       "<table border=\"1\" class=\"dataframe\">\n",
       "  <thead>\n",
       "    <tr style=\"text-align: right;\">\n",
       "      <th></th>\n",
       "      <th>user_id</th>\n",
       "      <th>movie_id</th>\n",
       "      <th>rating</th>\n",
       "      <th>timestamp</th>\n",
       "      <th>age</th>\n",
       "      <th>occupation</th>\n",
       "    </tr>\n",
       "  </thead>\n",
       "  <tbody>\n",
       "    <tr>\n",
       "      <th>count</th>\n",
       "      <td>2641.000</td>\n",
       "      <td>2641.000</td>\n",
       "      <td>2641.000</td>\n",
       "      <td>2.641e+03</td>\n",
       "      <td>2641.000</td>\n",
       "      <td>2641.000</td>\n",
       "    </tr>\n",
       "    <tr>\n",
       "      <th>mean</th>\n",
       "      <td>3015.204</td>\n",
       "      <td>1877.985</td>\n",
       "      <td>3.551</td>\n",
       "      <td>9.721e+08</td>\n",
       "      <td>29.490</td>\n",
       "      <td>7.981</td>\n",
       "    </tr>\n",
       "    <tr>\n",
       "      <th>std</th>\n",
       "      <td>1732.383</td>\n",
       "      <td>1094.477</td>\n",
       "      <td>1.127</td>\n",
       "      <td>1.198e+07</td>\n",
       "      <td>11.667</td>\n",
       "      <td>6.554</td>\n",
       "    </tr>\n",
       "    <tr>\n",
       "      <th>min</th>\n",
       "      <td>8.000</td>\n",
       "      <td>1.000</td>\n",
       "      <td>1.000</td>\n",
       "      <td>9.567e+08</td>\n",
       "      <td>1.000</td>\n",
       "      <td>0.000</td>\n",
       "    </tr>\n",
       "    <tr>\n",
       "      <th>25%</th>\n",
       "      <td>1484.000</td>\n",
       "      <td>1073.000</td>\n",
       "      <td>3.000</td>\n",
       "      <td>9.653e+08</td>\n",
       "      <td>25.000</td>\n",
       "      <td>2.000</td>\n",
       "    </tr>\n",
       "    <tr>\n",
       "      <th>50%</th>\n",
       "      <td>3054.000</td>\n",
       "      <td>1876.000</td>\n",
       "      <td>4.000</td>\n",
       "      <td>9.727e+08</td>\n",
       "      <td>25.000</td>\n",
       "      <td>7.000</td>\n",
       "    </tr>\n",
       "    <tr>\n",
       "      <th>75%</th>\n",
       "      <td>4458.000</td>\n",
       "      <td>2795.000</td>\n",
       "      <td>4.000</td>\n",
       "      <td>9.752e+08</td>\n",
       "      <td>35.000</td>\n",
       "      <td>14.000</td>\n",
       "    </tr>\n",
       "    <tr>\n",
       "      <th>max</th>\n",
       "      <td>6040.000</td>\n",
       "      <td>3949.000</td>\n",
       "      <td>5.000</td>\n",
       "      <td>1.046e+09</td>\n",
       "      <td>56.000</td>\n",
       "      <td>20.000</td>\n",
       "    </tr>\n",
       "  </tbody>\n",
       "</table>\n",
       "</div>"
      ],
      "text/plain": [
       "        user_id  movie_id    rating  timestamp       age  occupation\n",
       "count  2641.000  2641.000  2641.000  2.641e+03  2641.000    2641.000\n",
       "mean   3015.204  1877.985     3.551  9.721e+08    29.490       7.981\n",
       "std    1732.383  1094.477     1.127  1.198e+07    11.667       6.554\n",
       "min       8.000     1.000     1.000  9.567e+08     1.000       0.000\n",
       "25%    1484.000  1073.000     3.000  9.653e+08    25.000       2.000\n",
       "50%    3054.000  1876.000     4.000  9.727e+08    25.000       7.000\n",
       "75%    4458.000  2795.000     4.000  9.752e+08    35.000      14.000\n",
       "max    6040.000  3949.000     5.000  1.046e+09    56.000      20.000"
      ]
     },
     "execution_count": 7,
     "metadata": {},
     "output_type": "execute_result"
    }
   ],
   "source": [
    "df_test.describe()"
   ]
  },
  {
   "cell_type": "code",
   "execution_count": 8,
   "metadata": {},
   "outputs": [
    {
     "name": "stdout",
     "output_type": "stream",
     "text": [
      "<class 'pandas.core.frame.DataFrame'>\n",
      "Int64Index: 2641 entries, 586911 to 284781\n",
      "Data columns (total 11 columns):\n",
      " #   Column       Non-Null Count  Dtype \n",
      "---  ------       --------------  ----- \n",
      " 0   user_id      2641 non-null   int64 \n",
      " 1   movie_id     2641 non-null   int64 \n",
      " 2   rating       2641 non-null   int64 \n",
      " 3   timestamp    2641 non-null   int64 \n",
      " 4   gender       2641 non-null   object\n",
      " 5   age          2641 non-null   int64 \n",
      " 6   occupation   2641 non-null   int64 \n",
      " 7   zip          2641 non-null   object\n",
      " 8   title        2641 non-null   object\n",
      " 9   genres       2641 non-null   object\n",
      " 10  for_testing  2641 non-null   bool  \n",
      "dtypes: bool(1), int64(6), object(4)\n",
      "memory usage: 229.5+ KB\n"
     ]
    }
   ],
   "source": [
    "df_test.info()"
   ]
  },
  {
   "cell_type": "markdown",
   "metadata": {},
   "source": [
    "## Evaluation: performance criterion\n",
    "\n",
    "RMSE: $\\sqrt{\\frac{\\sum(\\hat y - y)^2}{n}}$"
   ]
  },
  {
   "cell_type": "code",
   "execution_count": 9,
   "metadata": {
    "collapsed": false,
    "jupyter": {
     "outputs_hidden": false
    }
   },
   "outputs": [],
   "source": [
    "def compute_rmse(y_pred, y_true):\n",
    "    \"\"\" Compute Root Mean Squared Error. \"\"\"\n",
    "    \n",
    "    return np.sqrt(np.mean(np.power(y_pred - y_true, 2)))"
   ]
  },
  {
   "cell_type": "markdown",
   "metadata": {},
   "source": [
    "## Evaluation: the 'evaluate' method"
   ]
  },
  {
   "cell_type": "code",
   "execution_count": 14,
   "metadata": {
    "collapsed": false,
    "jupyter": {
     "outputs_hidden": false
    }
   },
   "outputs": [],
   "source": [
    "def evaluate(estimate_f):\n",
    "    \"\"\" RMSE-based predictive performance evaluation with pandas. \"\"\"\n",
    "    \n",
    "    ids_to_estimate = zip(df_test.user_id, df_test.movie_id)\n",
    "    estimated = np.array([estimate_f(u,i) for (u,i) in ids_to_estimate])\n",
    "    real = df_test.rating.values\n",
    "    return compute_rmse(estimated, real)"
   ]
  },
  {
   "cell_type": "code",
   "execution_count": 11,
   "metadata": {},
   "outputs": [],
   "source": [
    "def my_estimate_function(user_id, movie_id):\n",
    "    return 3"
   ]
  },
  {
   "cell_type": "code",
   "execution_count": 15,
   "metadata": {
    "collapsed": false,
    "jupyter": {
     "outputs_hidden": false
    }
   },
   "outputs": [
    {
     "name": "stdout",
     "output_type": "stream",
     "text": [
      "RMSE for my estimate function: 1.2541487380591316\n"
     ]
    }
   ],
   "source": [
    "print('RMSE for my estimate function: %s' % evaluate(my_estimate_function))"
   ]
  },
  {
   "cell_type": "markdown",
   "metadata": {},
   "source": [
    "On a scale of 1 to 5, let's take a rating of 3 to be a baseline and compute the RMSE based on that assumption. Now we'll have an idea if the following models are doing a \"good\" or \"bad\" job in predicting recommendations."
   ]
  },
  {
   "cell_type": "markdown",
   "metadata": {},
   "source": [
    "## Rec Engine v1.0: mean ratings"
   ]
  },
  {
   "cell_type": "markdown",
   "metadata": {},
   "source": [
    "Content-based: Compute the mean of the user's ratings."
   ]
  },
  {
   "cell_type": "code",
   "execution_count": 31,
   "metadata": {},
   "outputs": [
    {
     "name": "stdout",
     "output_type": "stream",
     "text": [
      "RMSE for content1: 1.2672486910330791\n"
     ]
    }
   ],
   "source": [
    "def content_mean(user_id, movie_id):\n",
    "    \"\"\" Content-filtering based on mean ratings. \"\"\"\n",
    "    \n",
    "    user_condition = df_train.user_id == user_id\n",
    "    return df_train.loc[user_condition, 'rating'].mean()\n",
    "\n",
    "print('RMSE for content1: %s' % evaluate(content_mean))"
   ]
  },
  {
   "cell_type": "markdown",
   "metadata": {},
   "source": [
    "Collaborative-filtering: Compute the mean of all users that rated a movie."
   ]
  },
  {
   "cell_type": "code",
   "execution_count": 32,
   "metadata": {},
   "outputs": [
    {
     "name": "stdout",
     "output_type": "stream",
     "text": [
      "3.0\n",
      "RMSE for collab1: 1.1428217004703902\n"
     ]
    }
   ],
   "source": [
    "def collab_mean(user_id, movie_id):\n",
    "    user_condition = df_train.user_id != user_id\n",
    "    movie_condition = df_train.movie_id == movie_id\n",
    "    ratings_by_others = df_train.loc[user_condition & movie_condition]\n",
    "    # Handling edge cases\n",
    "    if ratings_by_others.empty:\n",
    "        return 3.0\n",
    "    else:\n",
    "        return ratings_by_others.rating.mean()\n",
    "\n",
    "    \n",
    "# try it out for a user_id, movie_id pair\n",
    "print(collab_mean(4653, 2648))\n",
    "print('RMSE for collab1: %s' % evaluate(collab_mean))"
   ]
  },
  {
   "cell_type": "code",
   "execution_count": null,
   "metadata": {},
   "outputs": [],
   "source": []
  }
 ],
 "metadata": {
  "kernelspec": {
   "display_name": "Python 3",
   "language": "python",
   "name": "python3"
  },
  "language_info": {
   "codemirror_mode": {
    "name": "ipython",
    "version": 3
   },
   "file_extension": ".py",
   "mimetype": "text/x-python",
   "name": "python",
   "nbconvert_exporter": "python",
   "pygments_lexer": "ipython3",
   "version": "3.8.3"
  }
 },
 "nbformat": 4,
 "nbformat_minor": 4
}
